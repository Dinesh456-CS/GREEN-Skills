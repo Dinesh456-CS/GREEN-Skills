{
 "cells": [
  {
   "cell_type": "code",
   "execution_count": 2,
   "id": "a7288d56-273c-4edf-90bc-970dcb2bf6ea",
   "metadata": {},
   "outputs": [
    {
     "name": "stdout",
     "output_type": "stream",
     "text": [
      "City Name: City A\n"
     ]
    }
   ],
   "source": [
    "city_name=\"City A\"\n",
    "print(f\"City Name: {city_name}\")"
   ]
  },
  {
   "cell_type": "code",
   "execution_count": 4,
   "id": "3892297b-5cd6-482e-b63c-a035493a8aff",
   "metadata": {},
   "outputs": [
    {
     "name": "stdout",
     "output_type": "stream",
     "text": [
      "sum of 45 and 55 is 100\n"
     ]
    }
   ],
   "source": [
    "a=45\n",
    "b=55\n",
    "print(f\"sum of {a} and {b} is {a+b}\")"
   ]
  },
  {
   "cell_type": "code",
   "execution_count": 19,
   "id": "79a37536-277c-41b6-a9e3-f6593bd5ca84",
   "metadata": {},
   "outputs": [
    {
     "name": "stdout",
     "output_type": "stream",
     "text": [
      "Temperature:45°C\n"
     ]
    }
   ],
   "source": [
    "temperature=45\n",
    "print(f\"Temperature:{temperature}°C\")"
   ]
  },
  {
   "cell_type": "code",
   "execution_count": 9,
   "id": "23d9e23e-8c3c-4afe-b0a6-726d7e2d0a65",
   "metadata": {},
   "outputs": [
    {
     "name": "stdout",
     "output_type": "stream",
     "text": [
      "Carbon footprint: 500.75\n"
     ]
    }
   ],
   "source": [
    "carbon_footprint=500.75\n",
    "print(f\"Carbon footprint: {carbon_footprint}\")"
   ]
  },
  {
   "cell_type": "code",
   "execution_count": 10,
   "id": "4209d80c-5b3c-4d15-b01c-e377086cf15d",
   "metadata": {},
   "outputs": [
    {
     "data": {
      "text/plain": [
       "float"
      ]
     },
     "execution_count": 10,
     "metadata": {},
     "output_type": "execute_result"
    }
   ],
   "source": [
    "type(carbon_footprint)"
   ]
  },
  {
   "cell_type": "code",
   "execution_count": 11,
   "id": "f294a51f-ecaf-4bd6-8b39-820923fb71f8",
   "metadata": {},
   "outputs": [
    {
     "name": "stdout",
     "output_type": "stream",
     "text": [
      "is sutainable: False\n"
     ]
    }
   ],
   "source": [
    "is_sutainable=carbon_footprint<400\n",
    "print(f\"is sutainable: {is_sutainable}\")"
   ]
  },
  {
   "cell_type": "code",
   "execution_count": 12,
   "id": "7e7e51bc-cd81-4eec-bab7-eaafb9a522ed",
   "metadata": {},
   "outputs": [
    {
     "name": "stdout",
     "output_type": "stream",
     "text": [
      "Weekly temp: [25, 27, 28, 26, 24, 30, 29]\n"
     ]
    }
   ],
   "source": [
    "weekly_temp=[25,27,28,26,24,30,29]\n",
    "print(f\"Weekly temp: {weekly_temp}\")"
   ]
  },
  {
   "cell_type": "code",
   "execution_count": 14,
   "id": "21409bb3-c207-4932-935e-26b4242c31a1",
   "metadata": {},
   "outputs": [
    {
     "name": "stdout",
     "output_type": "stream",
     "text": [
      "city data : {'Name': 'City A', 'temperature': 25, 'carbon_footprint': 500.75, 'is_suitable': False}\n"
     ]
    }
   ],
   "source": [
    "city_data={\n",
    "    \"Name\":\"City A\",\n",
    "    \"temperature\":25,\n",
    "    \"carbon_footprint\":500.75,\n",
    "    \"is_suitable\":False\n",
    "}\n",
    "print(f\"city data : {city_data}\")"
   ]
  },
  {
   "cell_type": "code",
   "execution_count": 15,
   "id": "98542e67-f074-4381-8a8c-b5817a15eb30",
   "metadata": {},
   "outputs": [
    {
     "name": "stdout",
     "output_type": "stream",
     "text": [
      "City Name:City b,Temperature:30°C,Carbon Footprint: 350.5 kgco2\n"
     ]
    }
   ],
   "source": [
    "city_name,temperature,carbon_footprint=\"City b\",30,350.50\n",
    "print(f\"City Name:{city_name},Temperature:{temperature}°C,Carbon Footprint: {carbon_footprint} kgco2\")"
   ]
  },
  {
   "cell_type": "code",
   "execution_count": 22,
   "id": "b482c373-1bd5-4501-a497-710ba15d70df",
   "metadata": {},
   "outputs": [
    {
     "name": "stdout",
     "output_type": "stream",
     "text": [
      "cities with high temperture (>°C):\n",
      "city B-30°C\n",
      "city E-28°C\n"
     ]
    }
   ],
   "source": [
    "climate_data=[\n",
    "    {\"city\":\"city A\", \"temperature\":25,\"carbon_footprin\":500},\n",
    "    {\"city\":\"city B\", \"temperature\":30,\"carbon_footprin\":350},\n",
    "    {\"city\":\"city C\", \"temperature\":22,\"carbon_footprin\":600},\n",
    "    {\"city\":\"city D\", \"temperature\":15,\"carbon_footprin\":200},\n",
    "    {\"city\":\"city E\", \"temperature\":28,\"carbon_footprin\":450}\n",
    "]\n",
    "high_temp_threshold=26\n",
    "high_tem_cities=[city for city in climate_data if city[\"temperature\"]>high_temp_threshold]\n",
    "print(\"cities with high temperture (>°C):\")\n",
    "for city in high_tem_cities:\n",
    "    print(f\"{city[\"city\"]}-{city[\"temperature\"]}°C\")"
   ]
  },
  {
   "cell_type": "code",
   "execution_count": 24,
   "id": "eb6b9550-e1f5-47ca-a67f-68b0de4dd1ab",
   "metadata": {},
   "outputs": [
    {
     "name": "stdout",
     "output_type": "stream",
     "text": [
      "\n",
      " Average carbon Footprint: 420.00 kg CO2\n"
     ]
    }
   ],
   "source": [
    "total_carbon=0\n",
    "for city in climate_data:\n",
    "    total_carbon+=city[\"carbon_footprin\"]\n",
    "average_carbon_footprint=total_carbon/len(climate_data)\n",
    "print(f\"\\n Average carbon Footprint: {average_carbon_footprint:.2f} kg CO2\")"
   ]
  },
  {
   "cell_type": "code",
   "execution_count": 30,
   "id": "64524700-4355-4b85-a6b6-d30f1a2178df",
   "metadata": {},
   "outputs": [
    {
     "name": "stdout",
     "output_type": "stream",
     "text": [
      "\n",
      "Sustainability cities  (Carbon footprint<400 kg CO2):\n",
      "city B-350 kg CO2\n",
      "city D-200 kg CO2\n"
     ]
    }
   ],
   "source": [
    "sustainability_threshold=400\n",
    "sustainability_cities=list(filter(lambda city:city[\"carbon_footprin\"]<sustainability_threshold,climate_data))\n",
    "print(\"\\nSustainability cities  (Carbon footprint<400 kg CO2):\")\n",
    "for city in sustainability_cities:\n",
    "    print(f\"{city['city']}-{city['carbon_footprin']} kg CO2\")"
   ]
  },
  {
   "cell_type": "code",
   "execution_count": 33,
   "id": "09e0bc12-3b27-4a99-95a4-7f11af7e8cf6",
   "metadata": {},
   "outputs": [
    {
     "name": "stdout",
     "output_type": "stream",
     "text": [
      "\n",
      "City with the highest carbon footprint:\n",
      "city C - 600 kg CO2\n"
     ]
    }
   ],
   "source": [
    "highest_footprint_city=max(climate_data,key=lambda city: city[\"carbon_footprin\"])\n",
    "print(f\"\\nCity with the highest carbon footprint:\")\n",
    "print(f\"{highest_footprint_city['city']} - {highest_footprint_city['carbon_footprin']} kg CO2\")"
   ]
  },
  {
   "cell_type": "code",
   "execution_count": null,
   "id": "8084d0dd-7fc9-48e2-8104-8caed6942591",
   "metadata": {},
   "outputs": [],
   "source": []
  }
 ],
 "metadata": {
  "kernelspec": {
   "display_name": "Python 3 (ipykernel)",
   "language": "python",
   "name": "python3"
  },
  "language_info": {
   "codemirror_mode": {
    "name": "ipython",
    "version": 3
   },
   "file_extension": ".py",
   "mimetype": "text/x-python",
   "name": "python",
   "nbconvert_exporter": "python",
   "pygments_lexer": "ipython3",
   "version": "3.12.8"
  }
 },
 "nbformat": 4,
 "nbformat_minor": 5
}
